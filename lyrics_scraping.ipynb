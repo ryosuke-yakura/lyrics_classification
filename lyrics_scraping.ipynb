{
 "cells": [
  {
   "cell_type": "code",
   "execution_count": 1,
   "metadata": {},
   "outputs": [],
   "source": [
    "#モジュールのインポート\n",
    "import requests\n",
    "from bs4 import BeautifulSoup\n",
    "import pandas as pd\n",
    "import time\n",
    "import re\n",
    "from datetime import datetime"
   ]
  },
  {
   "cell_type": "markdown",
   "metadata": {},
   "source": [
    "#参考にさせていただいたサイト：https://zatsugaku-engineer.com/python/scraping/"
   ]
  },
  {
   "cell_type": "markdown",
   "metadata": {},
   "source": [
    "まずはI dont like mondayの歌詞を取ってくる"
   ]
  },
  {
   "cell_type": "code",
   "execution_count": 83,
   "metadata": {},
   "outputs": [],
   "source": [
    "#スクレイピングしたデータを入れるフレームを作成\n",
    "df = pd.DataFrame(columns=[\"artist\",\"song\", \"lyrics\"])"
   ]
  },
  {
   "cell_type": "code",
   "execution_count": 84,
   "metadata": {},
   "outputs": [],
   "source": [
    "#url\n",
    "url = \"https://www.uta-net.com/artist/17114/\""
   ]
  },
  {
   "cell_type": "code",
   "execution_count": 85,
   "metadata": {},
   "outputs": [],
   "source": [
    "def scraping(url, df):\n",
    "    response = requests.get(url)\n",
    "    soup = BeautifulSoup(response.text, 'lxml')\n",
    "\n",
    "    #曲名\n",
    "    song = soup.find_all(class_='fw-bold songlist-title pb-1 pb-lg-0')\n",
    "    #歌詞\n",
    "    lyrics = soup.find_all(class_='d-block d-lg-none utaidashi text-truncate')\n",
    "    #歌手名\n",
    "    artist = soup.find_all(class_='my-2 my-lg-0 mx-2')\n",
    "    \n",
    "    #スクレイピングしたデータをリストに格納\n",
    "    song_list = []\n",
    "    lyrics_list = []\n",
    "    \n",
    "    for i in range(0,len(lyrics)):\n",
    "        a = lyrics[i].text\n",
    "        b = song[i].text\n",
    "        lyrics_list.append(a)\n",
    "        song_list.append(b)\n",
    "        \n",
    "    #dfとして格納\n",
    "    df[\"song\"] = song_list\n",
    "    df[\"lyrics\"] = lyrics_list\n",
    "    \n",
    "    #改行コードを半角スペースに変換\n",
    "    df[\"lyrics\"] = df[\"lyrics\"].str.replace(\"\\n3000\", \" \")\n",
    "    \n",
    "    return df"
   ]
  },
  {
   "cell_type": "code",
   "execution_count": 87,
   "metadata": {},
   "outputs": [],
   "source": [
    "df = scraping(url, df)"
   ]
  },
  {
   "cell_type": "code",
   "execution_count": 89,
   "metadata": {},
   "outputs": [],
   "source": [
    "df[\"artist\"] = \"I Don't Like Monday\""
   ]
  },
  {
   "cell_type": "code",
   "execution_count": 135,
   "metadata": {},
   "outputs": [],
   "source": [
    "#好きな曲にフラグをつける\n",
    "flg = [0,1,0,0,0,0,0,0,1,1,1,1,0,0,0,0,0,0,0,0,0,0,0,0,0,0,0,0,0,0,0,0,0,1,0,0,0,0,0,0,0,0,0,0,0,0,1,0,1,0,0,0,0,0,0,0,1,0,1,0,0,0,0,1,0,0,1,0,0,1]"
   ]
  },
  {
   "cell_type": "code",
   "execution_count": 137,
   "metadata": {},
   "outputs": [],
   "source": [
    "df[\"flg\"] = flg"
   ]
  },
  {
   "cell_type": "code",
   "execution_count": 138,
   "metadata": {},
   "outputs": [
    {
     "data": {
      "text/html": [
       "<div>\n",
       "<style scoped>\n",
       "    .dataframe tbody tr th:only-of-type {\n",
       "        vertical-align: middle;\n",
       "    }\n",
       "\n",
       "    .dataframe tbody tr th {\n",
       "        vertical-align: top;\n",
       "    }\n",
       "\n",
       "    .dataframe thead th {\n",
       "        text-align: right;\n",
       "    }\n",
       "</style>\n",
       "<table border=\"1\" class=\"dataframe\">\n",
       "  <thead>\n",
       "    <tr style=\"text-align: right;\">\n",
       "      <th></th>\n",
       "      <th>artist</th>\n",
       "      <th>song</th>\n",
       "      <th>lyrics</th>\n",
       "      <th>flg</th>\n",
       "    </tr>\n",
       "  </thead>\n",
       "  <tbody>\n",
       "    <tr>\n",
       "      <th>0</th>\n",
       "      <td>I Don't Like Monday</td>\n",
       "      <td>ダイナマイト</td>\n",
       "      <td>ループしてる同じ　毎日を繰り返し　まるで機械みたい　息を止め動いてる　車の中レディオ　音楽が...</td>\n",
       "      <td>0</td>\n",
       "    </tr>\n",
       "    <tr>\n",
       "      <th>1</th>\n",
       "      <td>I Don't Like Monday</td>\n",
       "      <td>愛言葉</td>\n",
       "      <td>出逢った頃とおんなじ様な　馬鹿みたく晴れた空だ　並んで歩いた緑道は　微かに夏の匂いがした　　...</td>\n",
       "      <td>1</td>\n",
       "    </tr>\n",
       "    <tr>\n",
       "      <th>2</th>\n",
       "      <td>I Don't Like Monday</td>\n",
       "      <td>AITAI</td>\n",
       "      <td>週末の予定はなんにもないよ　あのコとの約束は　キャンセルだし　　巷で有名な占いによれば　運気...</td>\n",
       "      <td>0</td>\n",
       "    </tr>\n",
       "    <tr>\n",
       "      <th>3</th>\n",
       "      <td>I Don't Like Monday</td>\n",
       "      <td>A GIRL IN THE CITY</td>\n",
       "      <td>You have sophisticated eyes　You make me sweete...</td>\n",
       "      <td>0</td>\n",
       "    </tr>\n",
       "    <tr>\n",
       "      <th>4</th>\n",
       "      <td>I Don't Like Monday</td>\n",
       "      <td>Up to U</td>\n",
       "      <td>珍しいね You drink a lot today　彼氏と喧嘩でもしたのかい？　話さなくて...</td>\n",
       "      <td>0</td>\n",
       "    </tr>\n",
       "  </tbody>\n",
       "</table>\n",
       "</div>"
      ],
      "text/plain": [
       "                artist                song  \\\n",
       "0  I Don't Like Monday              ダイナマイト   \n",
       "1  I Don't Like Monday                 愛言葉   \n",
       "2  I Don't Like Monday               AITAI   \n",
       "3  I Don't Like Monday  A GIRL IN THE CITY   \n",
       "4  I Don't Like Monday             Up to U   \n",
       "\n",
       "                                              lyrics  flg  \n",
       "0  ループしてる同じ　毎日を繰り返し　まるで機械みたい　息を止め動いてる　車の中レディオ　音楽が...    0  \n",
       "1  出逢った頃とおんなじ様な　馬鹿みたく晴れた空だ　並んで歩いた緑道は　微かに夏の匂いがした　　...    1  \n",
       "2  週末の予定はなんにもないよ　あのコとの約束は　キャンセルだし　　巷で有名な占いによれば　運気...    0  \n",
       "3  You have sophisticated eyes　You make me sweete...    0  \n",
       "4  珍しいね You drink a lot today　彼氏と喧嘩でもしたのかい？　話さなくて...    0  "
      ]
     },
     "execution_count": 138,
     "metadata": {},
     "output_type": "execute_result"
    }
   ],
   "source": [
    "df.head()"
   ]
  },
  {
   "cell_type": "markdown",
   "metadata": {},
   "source": [
    "次はsuper beaverの歌詞を取ってくる"
   ]
  },
  {
   "cell_type": "code",
   "execution_count": 91,
   "metadata": {},
   "outputs": [],
   "source": [
    "#スクレイピングしたデータを入れるフレームを作成\n",
    "df2 = pd.DataFrame(columns=[\"artist\",\"song\", \"lyrics\"])"
   ]
  },
  {
   "cell_type": "code",
   "execution_count": 92,
   "metadata": {},
   "outputs": [],
   "source": [
    "#url\n",
    "url = \"https://www.uta-net.com/artist/8722/\""
   ]
  },
  {
   "cell_type": "code",
   "execution_count": 93,
   "metadata": {},
   "outputs": [],
   "source": [
    "df2 = scraping(url, df2)"
   ]
  },
  {
   "cell_type": "code",
   "execution_count": 94,
   "metadata": {},
   "outputs": [],
   "source": [
    "df2[\"artist\"] = \"SUPER BEAVER\""
   ]
  },
  {
   "cell_type": "code",
   "execution_count": 95,
   "metadata": {},
   "outputs": [
    {
     "data": {
      "text/html": [
       "<div>\n",
       "<style scoped>\n",
       "    .dataframe tbody tr th:only-of-type {\n",
       "        vertical-align: middle;\n",
       "    }\n",
       "\n",
       "    .dataframe tbody tr th {\n",
       "        vertical-align: top;\n",
       "    }\n",
       "\n",
       "    .dataframe thead th {\n",
       "        text-align: right;\n",
       "    }\n",
       "</style>\n",
       "<table border=\"1\" class=\"dataframe\">\n",
       "  <thead>\n",
       "    <tr style=\"text-align: right;\">\n",
       "      <th></th>\n",
       "      <th>artist</th>\n",
       "      <th>song</th>\n",
       "      <th>lyrics</th>\n",
       "    </tr>\n",
       "  </thead>\n",
       "  <tbody>\n",
       "    <tr>\n",
       "      <th>0</th>\n",
       "      <td>SUPER BEAVER</td>\n",
       "      <td>ひたむき</td>\n",
       "      <td>自分は自分だからってのはさ　言い訳の　そのための　決意じゃなかったろう　理想を茶化すと　決ま...</td>\n",
       "    </tr>\n",
       "    <tr>\n",
       "      <th>1</th>\n",
       "      <td>SUPER BEAVER</td>\n",
       "      <td>ILP</td>\n",
       "      <td>夢を与える人間は　誰より夢を見ている　夢を与える人間は　誰よりそのままを見てる　夢を与える人...</td>\n",
       "    </tr>\n",
       "    <tr>\n",
       "      <th>2</th>\n",
       "      <td>SUPER BEAVER</td>\n",
       "      <td>愛する</td>\n",
       "      <td>「あなただけが僕の全て」と言えない理由が嬉しいよ　愛してくれた　全ての人を　同じように愛して...</td>\n",
       "    </tr>\n",
       "  </tbody>\n",
       "</table>\n",
       "</div>"
      ],
      "text/plain": [
       "         artist  song                                             lyrics\n",
       "0  SUPER BEAVER  ひたむき  自分は自分だからってのはさ　言い訳の　そのための　決意じゃなかったろう　理想を茶化すと　決ま...\n",
       "1  SUPER BEAVER   ILP  夢を与える人間は　誰より夢を見ている　夢を与える人間は　誰よりそのままを見てる　夢を与える人...\n",
       "2  SUPER BEAVER   愛する  「あなただけが僕の全て」と言えない理由が嬉しいよ　愛してくれた　全ての人を　同じように愛して..."
      ]
     },
     "execution_count": 95,
     "metadata": {},
     "output_type": "execute_result"
    }
   ],
   "source": [
    "df2.head(3) "
   ]
  },
  {
   "cell_type": "code",
   "execution_count": 139,
   "metadata": {},
   "outputs": [],
   "source": [
    "#好きな曲にフラグをつける\n",
    "flg = [0,0,0,0,1,0,1,0,0,1,1,1,0,1,0,0,0,0,0,0,0,0,0,0,0,0,0,0,0,0,0,0,0,0,0,0,0,0,0,1,0,1,0,\n",
    "      0,0,0,0,0,0,0,0,1,1,0,0,0,0,0,0,0,0,0,0,0,0,0,0,1,1,0,0,0,1,0,0,1,0,0,1,0,0,0,0,0,0,0,0,0,\n",
    "      0,1,1,1,1,1,0,0,0,0,0,0,0,0,0,0,0,0,0,0,0,0,0,0,0,0,0,0,0,1,0,1,1,0,0,0,0,0,0,0]"
   ]
  },
  {
   "cell_type": "code",
   "execution_count": 141,
   "metadata": {},
   "outputs": [],
   "source": [
    "df2[\"flg\"] = flg"
   ]
  },
  {
   "cell_type": "markdown",
   "metadata": {},
   "source": [
    "YUKIの歌詞を取ってくる"
   ]
  },
  {
   "cell_type": "code",
   "execution_count": 96,
   "metadata": {},
   "outputs": [],
   "source": [
    "#スクレイピングしたデータを入れるフレームを作成\n",
    "df3 = pd.DataFrame(columns=[\"artist\",\"song\", \"lyrics\"])"
   ]
  },
  {
   "cell_type": "code",
   "execution_count": 97,
   "metadata": {},
   "outputs": [],
   "source": [
    "#url\n",
    "url = \"https://www.uta-net.com/artist/1152/\""
   ]
  },
  {
   "cell_type": "code",
   "execution_count": 98,
   "metadata": {},
   "outputs": [],
   "source": [
    "df3 = scraping(url, df3)"
   ]
  },
  {
   "cell_type": "code",
   "execution_count": 100,
   "metadata": {},
   "outputs": [],
   "source": [
    "df3[\"artist\"] = \"YUKI\""
   ]
  },
  {
   "cell_type": "code",
   "execution_count": 101,
   "metadata": {},
   "outputs": [
    {
     "data": {
      "text/html": [
       "<div>\n",
       "<style scoped>\n",
       "    .dataframe tbody tr th:only-of-type {\n",
       "        vertical-align: middle;\n",
       "    }\n",
       "\n",
       "    .dataframe tbody tr th {\n",
       "        vertical-align: top;\n",
       "    }\n",
       "\n",
       "    .dataframe thead th {\n",
       "        text-align: right;\n",
       "    }\n",
       "</style>\n",
       "<table border=\"1\" class=\"dataframe\">\n",
       "  <thead>\n",
       "    <tr style=\"text-align: right;\">\n",
       "      <th></th>\n",
       "      <th>artist</th>\n",
       "      <th>song</th>\n",
       "      <th>lyrics</th>\n",
       "    </tr>\n",
       "  </thead>\n",
       "  <tbody>\n",
       "    <tr>\n",
       "      <th>0</th>\n",
       "      <td>YUKI</td>\n",
       "      <td>タイムカプセル</td>\n",
       "      <td>暗がりで僕は育つ　朝が来れば　萎れてしまうから　急いで　小さなトランクの中に　早く　入れたい...</td>\n",
       "    </tr>\n",
       "    <tr>\n",
       "      <th>1</th>\n",
       "      <td>YUKI</td>\n",
       "      <td>My Vision</td>\n",
       "      <td>We'll need glasses　Watch out！　Check the nail　L...</td>\n",
       "    </tr>\n",
       "    <tr>\n",
       "      <th>2</th>\n",
       "      <td>YUKI</td>\n",
       "      <td>Oh! ベンガル・ガール</td>\n",
       "      <td>鳴くより先　前進だ　野性味溢れるハンティング　いつまで　飽きもせず　光ばかり追いかける　気品...</td>\n",
       "    </tr>\n",
       "    <tr>\n",
       "      <th>3</th>\n",
       "      <td>YUKI</td>\n",
       "      <td>ア・イ・ウ・エ・オ</td>\n",
       "      <td>ふと気付くと陽が暮れてたのは　あたり前の出来事　ふと気付くとキミが居てくれたのは　うれしい　...</td>\n",
       "    </tr>\n",
       "    <tr>\n",
       "      <th>4</th>\n",
       "      <td>YUKI</td>\n",
       "      <td>愛しあえば</td>\n",
       "      <td>たべてみたい　そう　しあわせの実　寄り添う　ビーチ　ん～　ダーリン楽しい　不思議なパイ　永遠...</td>\n",
       "    </tr>\n",
       "  </tbody>\n",
       "</table>\n",
       "</div>"
      ],
      "text/plain": [
       "  artist          song                                             lyrics\n",
       "0   YUKI       タイムカプセル  暗がりで僕は育つ　朝が来れば　萎れてしまうから　急いで　小さなトランクの中に　早く　入れたい...\n",
       "1   YUKI     My Vision  We'll need glasses　Watch out！　Check the nail　L...\n",
       "2   YUKI  Oh! ベンガル・ガール  鳴くより先　前進だ　野性味溢れるハンティング　いつまで　飽きもせず　光ばかり追いかける　気品...\n",
       "3   YUKI     ア・イ・ウ・エ・オ  ふと気付くと陽が暮れてたのは　あたり前の出来事　ふと気付くとキミが居てくれたのは　うれしい　...\n",
       "4   YUKI         愛しあえば  たべてみたい　そう　しあわせの実　寄り添う　ビーチ　ん～　ダーリン楽しい　不思議なパイ　永遠..."
      ]
     },
     "execution_count": 101,
     "metadata": {},
     "output_type": "execute_result"
    }
   ],
   "source": [
    "df3.head()"
   ]
  },
  {
   "cell_type": "code",
   "execution_count": 142,
   "metadata": {},
   "outputs": [],
   "source": [
    "#好きな曲にフラグをつける\n",
    "flg = [0,0,0,0,0,0,0,0,0,0,0,0,0,0,0,0,0,0,0,0,1,0,0,0,0,0,0,0,0,1,0,0,0,0,0,0,0,0,0,1,0,0,0,\n",
    "      0,0,0,0,0,0,0,0,0,0,0,0,1,0,0,0,0,0,0,0,0,0,0,0,0,1,0,0,0,0,0,0,0,0,0,0,0,0,0,1,1,0,0,0,0,\n",
    "      0,0,0,0,0,0,0,0,0,1,0,0,1,0,0,0,0,0,0,0,0,1,0,0,0,0,0,1,0,0,0,0,0,0,0,0,0,0,0,0,1,1,0,0,0,\n",
    "      0,0,0,0,0,0,0,0,0,0,0,1,0,0,0,0,0,0,0,0,0,0,0,1,0,0,0,0,0,0,0,0,0,0,0,0,0]"
   ]
  },
  {
   "cell_type": "code",
   "execution_count": 144,
   "metadata": {},
   "outputs": [],
   "source": [
    "df3[\"flg\"] = flg"
   ]
  },
  {
   "cell_type": "markdown",
   "metadata": {},
   "source": [
    "Galileo Galilei"
   ]
  },
  {
   "cell_type": "code",
   "execution_count": 102,
   "metadata": {},
   "outputs": [],
   "source": [
    "#スクレイピングしたデータを入れるフレームを作成\n",
    "df4 = pd.DataFrame(columns=[\"artist\",\"song\", \"lyrics\"])"
   ]
  },
  {
   "cell_type": "code",
   "execution_count": 103,
   "metadata": {},
   "outputs": [],
   "source": [
    "url = \"https://www.uta-net.com/artist/9369/\""
   ]
  },
  {
   "cell_type": "code",
   "execution_count": 104,
   "metadata": {},
   "outputs": [],
   "source": [
    "df4 = scraping(url, df4)"
   ]
  },
  {
   "cell_type": "code",
   "execution_count": 105,
   "metadata": {},
   "outputs": [],
   "source": [
    "df4[\"artist\"] = \"Galileo Galilei\""
   ]
  },
  {
   "cell_type": "code",
   "execution_count": 106,
   "metadata": {},
   "outputs": [
    {
     "data": {
      "text/html": [
       "<div>\n",
       "<style scoped>\n",
       "    .dataframe tbody tr th:only-of-type {\n",
       "        vertical-align: middle;\n",
       "    }\n",
       "\n",
       "    .dataframe tbody tr th {\n",
       "        vertical-align: top;\n",
       "    }\n",
       "\n",
       "    .dataframe thead th {\n",
       "        text-align: right;\n",
       "    }\n",
       "</style>\n",
       "<table border=\"1\" class=\"dataframe\">\n",
       "  <thead>\n",
       "    <tr style=\"text-align: right;\">\n",
       "      <th></th>\n",
       "      <th>artist</th>\n",
       "      <th>song</th>\n",
       "      <th>lyrics</th>\n",
       "    </tr>\n",
       "  </thead>\n",
       "  <tbody>\n",
       "    <tr>\n",
       "      <th>0</th>\n",
       "      <td>Galileo Galilei</td>\n",
       "      <td>愛を</td>\n",
       "      <td>“それじゃまた”　これで終わり?　駄目だよ　次なんて　僕らはこれからだよ　雨降る空模様　　愛...</td>\n",
       "    </tr>\n",
       "    <tr>\n",
       "      <th>1</th>\n",
       "      <td>Galileo Galilei</td>\n",
       "      <td>青い栞</td>\n",
       "      <td>何ページもついやして　綴られた僕らの気分　どうしてか一行の　空白をうめられない　　押し花の栞...</td>\n",
       "    </tr>\n",
       "    <tr>\n",
       "      <th>2</th>\n",
       "      <td>Galileo Galilei</td>\n",
       "      <td>青い血</td>\n",
       "      <td>狂言的な死を　表現的な詩で　輝く血のついた爪でかく　夢見る少女たちと無垢な少年たちの　隙間を...</td>\n",
       "    </tr>\n",
       "    <tr>\n",
       "      <th>3</th>\n",
       "      <td>Galileo Galilei</td>\n",
       "      <td>明日へ</td>\n",
       "      <td>バイバイ手を振るサンデーモーニング　冬の空迫った昼下がり　焦りに背中を押されて飛んでった　だ...</td>\n",
       "    </tr>\n",
       "    <tr>\n",
       "      <th>4</th>\n",
       "      <td>Galileo Galilei</td>\n",
       "      <td>嵐のあとで</td>\n",
       "      <td>あの日歩いた道を　君は覚えている？　砂利っぽいアスファルトと　頬撫でていく風　バイバイ　って...</td>\n",
       "    </tr>\n",
       "  </tbody>\n",
       "</table>\n",
       "</div>"
      ],
      "text/plain": [
       "            artist   song                                             lyrics\n",
       "0  Galileo Galilei     愛を  “それじゃまた”　これで終わり?　駄目だよ　次なんて　僕らはこれからだよ　雨降る空模様　　愛...\n",
       "1  Galileo Galilei    青い栞  何ページもついやして　綴られた僕らの気分　どうしてか一行の　空白をうめられない　　押し花の栞...\n",
       "2  Galileo Galilei    青い血  狂言的な死を　表現的な詩で　輝く血のついた爪でかく　夢見る少女たちと無垢な少年たちの　隙間を...\n",
       "3  Galileo Galilei    明日へ  バイバイ手を振るサンデーモーニング　冬の空迫った昼下がり　焦りに背中を押されて飛んでった　だ...\n",
       "4  Galileo Galilei  嵐のあとで  あの日歩いた道を　君は覚えている？　砂利っぽいアスファルトと　頬撫でていく風　バイバイ　って..."
      ]
     },
     "execution_count": 106,
     "metadata": {},
     "output_type": "execute_result"
    }
   ],
   "source": [
    "df4.head()"
   ]
  },
  {
   "cell_type": "code",
   "execution_count": 151,
   "metadata": {},
   "outputs": [],
   "source": [
    "#好きな曲にフラグをつける\n",
    "flg = [0,1,0,1,0,0,0,0,0,1,0,0,0,0,1,0,0,0,1,0,1,0,0,0,0,1,0,0,0,0,0,0,0,0,0,0,0,0,0,0,0,0,0,0,0,\n",
    "      1,0,0,0,1,1,1,1,0,0,0,0,0,0,0,0,0,0,0,0,1,0,1,0,0,0,0,0,0,0,0,0,0,0]"
   ]
  },
  {
   "cell_type": "code",
   "execution_count": 152,
   "metadata": {},
   "outputs": [],
   "source": [
    "df4[\"flg\"] = flg"
   ]
  },
  {
   "cell_type": "code",
   "execution_count": 153,
   "metadata": {},
   "outputs": [
    {
     "data": {
      "text/html": [
       "<div>\n",
       "<style scoped>\n",
       "    .dataframe tbody tr th:only-of-type {\n",
       "        vertical-align: middle;\n",
       "    }\n",
       "\n",
       "    .dataframe tbody tr th {\n",
       "        vertical-align: top;\n",
       "    }\n",
       "\n",
       "    .dataframe thead th {\n",
       "        text-align: right;\n",
       "    }\n",
       "</style>\n",
       "<table border=\"1\" class=\"dataframe\">\n",
       "  <thead>\n",
       "    <tr style=\"text-align: right;\">\n",
       "      <th></th>\n",
       "      <th>artist</th>\n",
       "      <th>song</th>\n",
       "      <th>lyrics</th>\n",
       "      <th>flg</th>\n",
       "    </tr>\n",
       "  </thead>\n",
       "  <tbody>\n",
       "    <tr>\n",
       "      <th>1</th>\n",
       "      <td>Galileo Galilei</td>\n",
       "      <td>青い栞</td>\n",
       "      <td>何ページもついやして　綴られた僕らの気分　どうしてか一行の　空白をうめられない　　押し花の栞...</td>\n",
       "      <td>1</td>\n",
       "    </tr>\n",
       "    <tr>\n",
       "      <th>3</th>\n",
       "      <td>Galileo Galilei</td>\n",
       "      <td>明日へ</td>\n",
       "      <td>バイバイ手を振るサンデーモーニング　冬の空迫った昼下がり　焦りに背中を押されて飛んでった　だ...</td>\n",
       "      <td>1</td>\n",
       "    </tr>\n",
       "    <tr>\n",
       "      <th>9</th>\n",
       "      <td>Galileo Galilei</td>\n",
       "      <td>ウェンズデイ</td>\n",
       "      <td>どうでもいい葬式で　きみの姿をみたよ　ずっと髪をいじくっていた　ウェンズディアダムスみたい　...</td>\n",
       "      <td>1</td>\n",
       "    </tr>\n",
       "    <tr>\n",
       "      <th>14</th>\n",
       "      <td>Galileo Galilei</td>\n",
       "      <td>管制塔(acoustic)</td>\n",
       "      <td>青い風の吹く高い丘の上 君と二人で見た未来を描いた　大きな紙飛行機 風に乗せられてどこまでも...</td>\n",
       "      <td>1</td>\n",
       "    </tr>\n",
       "    <tr>\n",
       "      <th>18</th>\n",
       "      <td>Galileo Galilei</td>\n",
       "      <td>クライマー</td>\n",
       "      <td>僕らの山を登っていたんだ　すりへってくのは　時間だけじゃない　自由を知ると　飛びたくなって　...</td>\n",
       "      <td>1</td>\n",
       "    </tr>\n",
       "    <tr>\n",
       "      <th>20</th>\n",
       "      <td>Galileo Galilei</td>\n",
       "      <td>恋の寿命</td>\n",
       "      <td>もしも悲しみが爪をといで　あなたのことを引き裂こうと　近づいても　僕がそこで終わらせる　きっ...</td>\n",
       "      <td>1</td>\n",
       "    </tr>\n",
       "    <tr>\n",
       "      <th>25</th>\n",
       "      <td>Galileo Galilei</td>\n",
       "      <td>SIREN</td>\n",
       "      <td>昨日の晩から君は月を見てる 朝日が昇っても月は見えるの?　声をかけても聞こえていない そんな...</td>\n",
       "      <td>1</td>\n",
       "    </tr>\n",
       "    <tr>\n",
       "      <th>45</th>\n",
       "      <td>Galileo Galilei</td>\n",
       "      <td>夏空</td>\n",
       "      <td>僕らが一つ一つの夢を守りぬけるなら　夏空にした約束は100年後でも破れない　それを君は笑って...</td>\n",
       "      <td>1</td>\n",
       "    </tr>\n",
       "    <tr>\n",
       "      <th>49</th>\n",
       "      <td>Galileo Galilei</td>\n",
       "      <td>ハマナスの花</td>\n",
       "      <td>雨が降って虹が出来て 綺麗ね はいオワリ　寂しくなってあなたがいて 独りじゃない はいオワリ...</td>\n",
       "      <td>1</td>\n",
       "    </tr>\n",
       "    <tr>\n",
       "      <th>50</th>\n",
       "      <td>Galileo Galilei</td>\n",
       "      <td>Hellogoodbye</td>\n",
       "      <td>こんな時間にすいません　でも夜が長すぎたので　君の声聞きたくなったよ　寝ぼけた声で笑ってよ　...</td>\n",
       "      <td>1</td>\n",
       "    </tr>\n",
       "    <tr>\n",
       "      <th>51</th>\n",
       "      <td>Galileo Galilei</td>\n",
       "      <td>ハローグッバイ</td>\n",
       "      <td>こんな時間にすいません　でも夜が長すぎたので　君の声聞きたくなったよ　寝ぼけた声で笑ってよ　...</td>\n",
       "      <td>1</td>\n",
       "    </tr>\n",
       "    <tr>\n",
       "      <th>52</th>\n",
       "      <td>Galileo Galilei</td>\n",
       "      <td>バナナフィッシュの浜辺と黒い虹 with Aimer</td>\n",
       "      <td>眠れない夏の夜に　家をちょっと抜け出して　私は坂を下っていく　舌にのせたアレを転がし　ヴィレ...</td>\n",
       "      <td>1</td>\n",
       "    </tr>\n",
       "    <tr>\n",
       "      <th>65</th>\n",
       "      <td>Galileo Galilei</td>\n",
       "      <td>ボニーとクライド</td>\n",
       "      <td>通りは真っ暗だった　私たちの家以外ぜんぶ　プールに札束まいて　ゼリーの枕であなたを叩く　壊れ...</td>\n",
       "      <td>1</td>\n",
       "    </tr>\n",
       "    <tr>\n",
       "      <th>67</th>\n",
       "      <td>Galileo Galilei</td>\n",
       "      <td>Mrs. Summer</td>\n",
       "      <td>僕らはずっと待っていた　やりたいこと叫んでいた　夏したい！　空に打ち上げたバレーボール　友達...</td>\n",
       "      <td>1</td>\n",
       "    </tr>\n",
       "  </tbody>\n",
       "</table>\n",
       "</div>"
      ],
      "text/plain": [
       "             artist                        song  \\\n",
       "1   Galileo Galilei                         青い栞   \n",
       "3   Galileo Galilei                         明日へ   \n",
       "9   Galileo Galilei                      ウェンズデイ   \n",
       "14  Galileo Galilei               管制塔(acoustic)   \n",
       "18  Galileo Galilei                       クライマー   \n",
       "20  Galileo Galilei                        恋の寿命   \n",
       "25  Galileo Galilei                       SIREN   \n",
       "45  Galileo Galilei                          夏空   \n",
       "49  Galileo Galilei                      ハマナスの花   \n",
       "50  Galileo Galilei                Hellogoodbye   \n",
       "51  Galileo Galilei                     ハローグッバイ   \n",
       "52  Galileo Galilei  バナナフィッシュの浜辺と黒い虹 with Aimer   \n",
       "65  Galileo Galilei                    ボニーとクライド   \n",
       "67  Galileo Galilei                 Mrs. Summer   \n",
       "\n",
       "                                               lyrics  flg  \n",
       "1   何ページもついやして　綴られた僕らの気分　どうしてか一行の　空白をうめられない　　押し花の栞...    1  \n",
       "3   バイバイ手を振るサンデーモーニング　冬の空迫った昼下がり　焦りに背中を押されて飛んでった　だ...    1  \n",
       "9   どうでもいい葬式で　きみの姿をみたよ　ずっと髪をいじくっていた　ウェンズディアダムスみたい　...    1  \n",
       "14  青い風の吹く高い丘の上 君と二人で見た未来を描いた　大きな紙飛行機 風に乗せられてどこまでも...    1  \n",
       "18  僕らの山を登っていたんだ　すりへってくのは　時間だけじゃない　自由を知ると　飛びたくなって　...    1  \n",
       "20  もしも悲しみが爪をといで　あなたのことを引き裂こうと　近づいても　僕がそこで終わらせる　きっ...    1  \n",
       "25  昨日の晩から君は月を見てる 朝日が昇っても月は見えるの?　声をかけても聞こえていない そんな...    1  \n",
       "45  僕らが一つ一つの夢を守りぬけるなら　夏空にした約束は100年後でも破れない　それを君は笑って...    1  \n",
       "49  雨が降って虹が出来て 綺麗ね はいオワリ　寂しくなってあなたがいて 独りじゃない はいオワリ...    1  \n",
       "50  こんな時間にすいません　でも夜が長すぎたので　君の声聞きたくなったよ　寝ぼけた声で笑ってよ　...    1  \n",
       "51  こんな時間にすいません　でも夜が長すぎたので　君の声聞きたくなったよ　寝ぼけた声で笑ってよ　...    1  \n",
       "52  眠れない夏の夜に　家をちょっと抜け出して　私は坂を下っていく　舌にのせたアレを転がし　ヴィレ...    1  \n",
       "65  通りは真っ暗だった　私たちの家以外ぜんぶ　プールに札束まいて　ゼリーの枕であなたを叩く　壊れ...    1  \n",
       "67  僕らはずっと待っていた　やりたいこと叫んでいた　夏したい！　空に打ち上げたバレーボール　友達...    1  "
      ]
     },
     "execution_count": 153,
     "metadata": {},
     "output_type": "execute_result"
    }
   ],
   "source": [
    "df4[df4[\"flg\"]==1]"
   ]
  },
  {
   "cell_type": "markdown",
   "metadata": {},
   "source": [
    "緑黄色社会"
   ]
  },
  {
   "cell_type": "code",
   "execution_count": 111,
   "metadata": {},
   "outputs": [],
   "source": [
    "#スクレイピングしたデータを入れるフレームを作成\n",
    "df5 = pd.DataFrame(columns=[\"artist\",\"song\", \"lyrics\"])"
   ]
  },
  {
   "cell_type": "code",
   "execution_count": 112,
   "metadata": {},
   "outputs": [],
   "source": [
    "url = \"https://www.uta-net.com/artist/22823/\""
   ]
  },
  {
   "cell_type": "code",
   "execution_count": 113,
   "metadata": {},
   "outputs": [],
   "source": [
    "df5 = scraping(url, df5)"
   ]
  },
  {
   "cell_type": "code",
   "execution_count": 115,
   "metadata": {},
   "outputs": [],
   "source": [
    "df5[\"artist\"] = \"緑黄色社会\""
   ]
  },
  {
   "cell_type": "code",
   "execution_count": 159,
   "metadata": {},
   "outputs": [],
   "source": [
    "#好きな曲にフラグをつける\n",
    "flg = [0,1,0,0,0,0,0,1,0,0,0,0,0,0,0,0,0,0,0,0,1,0,0,0,1,0,0,0,0,0,0,0,0,1,0,0,0,0,1,1,0,0,0,1,1,1,0,0,1,0,0,0,1,0]"
   ]
  },
  {
   "cell_type": "code",
   "execution_count": 160,
   "metadata": {},
   "outputs": [],
   "source": [
    "df5[\"flg\"] = flg"
   ]
  },
  {
   "cell_type": "code",
   "execution_count": 164,
   "metadata": {},
   "outputs": [
    {
     "data": {
      "text/html": [
       "<div>\n",
       "<style scoped>\n",
       "    .dataframe tbody tr th:only-of-type {\n",
       "        vertical-align: middle;\n",
       "    }\n",
       "\n",
       "    .dataframe tbody tr th {\n",
       "        vertical-align: top;\n",
       "    }\n",
       "\n",
       "    .dataframe thead th {\n",
       "        text-align: right;\n",
       "    }\n",
       "</style>\n",
       "<table border=\"1\" class=\"dataframe\">\n",
       "  <thead>\n",
       "    <tr style=\"text-align: right;\">\n",
       "      <th></th>\n",
       "      <th>artist</th>\n",
       "      <th>song</th>\n",
       "      <th>lyrics</th>\n",
       "      <th>flg</th>\n",
       "    </tr>\n",
       "  </thead>\n",
       "  <tbody>\n",
       "    <tr>\n",
       "      <th>1</th>\n",
       "      <td>緑黄色社会</td>\n",
       "      <td>あのころ見た光</td>\n",
       "      <td>憧れていた自分になれたかな　時の流れに心が追いつかなくて　　不安なはずの未来がさ　確かに光っ...</td>\n",
       "      <td>1</td>\n",
       "    </tr>\n",
       "    <tr>\n",
       "      <th>7</th>\n",
       "      <td>緑黄色社会</td>\n",
       "      <td>inori</td>\n",
       "      <td>真っ逆さまに思えてしまう　アスファルトの夜空に　あなたを探した　　見たり　見えたり　見て見ぬ...</td>\n",
       "      <td>1</td>\n",
       "    </tr>\n",
       "    <tr>\n",
       "      <th>20</th>\n",
       "      <td>緑黄色社会</td>\n",
       "      <td>sabotage</td>\n",
       "      <td>せーので駆け出したはずなのにどうして　まるで私だけがサボタージュ　YESかNOの間でなんとな...</td>\n",
       "      <td>1</td>\n",
       "    </tr>\n",
       "    <tr>\n",
       "      <th>24</th>\n",
       "      <td>緑黄色社会</td>\n",
       "      <td>Shout Baby</td>\n",
       "      <td>いつもと違う髪のにおい　踊らされてしまう悔しいな　緩んでしまう口元　マフラーにそっと沈めた　...</td>\n",
       "      <td>1</td>\n",
       "    </tr>\n",
       "    <tr>\n",
       "      <th>33</th>\n",
       "      <td>緑黄色社会</td>\n",
       "      <td>夏を生きる</td>\n",
       "      <td>勢いまかせのサイダー　ベタついたまま　透明なフリをしていた　“本当”は全部隠れているから　泥...</td>\n",
       "      <td>1</td>\n",
       "    </tr>\n",
       "    <tr>\n",
       "      <th>38</th>\n",
       "      <td>緑黄色社会</td>\n",
       "      <td>陽はまた昇るから</td>\n",
       "      <td>陽はまた昇るから　　悲しくなれる　それはイイことなんだよ　悲しむ人の気持ちを　守れる人になる...</td>\n",
       "      <td>1</td>\n",
       "    </tr>\n",
       "    <tr>\n",
       "      <th>39</th>\n",
       "      <td>緑黄色社会</td>\n",
       "      <td>Bitter</td>\n",
       "      <td>揺らしてみて　溶かしてみて　これ以上の驚きで　試してみて　騙してみて　　声聞かせて　笑ってみ...</td>\n",
       "      <td>1</td>\n",
       "    </tr>\n",
       "    <tr>\n",
       "      <th>43</th>\n",
       "      <td>緑黄色社会</td>\n",
       "      <td>またね</td>\n",
       "      <td>私　あなたの前ではずっと笑って　それ以外の顔出せなかった　寝息が途切れないように　そっとドア...</td>\n",
       "      <td>1</td>\n",
       "    </tr>\n",
       "    <tr>\n",
       "      <th>44</th>\n",
       "      <td>緑黄色社会</td>\n",
       "      <td>真夜中ドライブ</td>\n",
       "      <td>真夜中　ちょうどお腹が空く頃　エンジンの音で飛び出した　理想と現実は違うものだって　流れるラ...</td>\n",
       "      <td>1</td>\n",
       "    </tr>\n",
       "    <tr>\n",
       "      <th>45</th>\n",
       "      <td>緑黄色社会</td>\n",
       "      <td>Mela!</td>\n",
       "      <td>今なんじゃない？　メラメラとたぎれ　眠っているだけの正義　こんな僕も君のヒーローになりたいの...</td>\n",
       "      <td>1</td>\n",
       "    </tr>\n",
       "    <tr>\n",
       "      <th>48</th>\n",
       "      <td>緑黄色社会</td>\n",
       "      <td>Landscape</td>\n",
       "      <td>あれこれ探してきた　切り取って残してきた　溝に咲いた花　君はファインダーから　僕はとなりから...</td>\n",
       "      <td>1</td>\n",
       "    </tr>\n",
       "    <tr>\n",
       "      <th>52</th>\n",
       "      <td>緑黄色社会</td>\n",
       "      <td>リトルシンガー</td>\n",
       "      <td>ねぇリトルシンガー　歌ってほしいよ　不安も迷いも吹き飛ばす声で　ねぇリトルシンガー　歌ってほ...</td>\n",
       "      <td>1</td>\n",
       "    </tr>\n",
       "  </tbody>\n",
       "</table>\n",
       "</div>"
      ],
      "text/plain": [
       "   artist        song                                             lyrics  flg\n",
       "1   緑黄色社会     あのころ見た光  憧れていた自分になれたかな　時の流れに心が追いつかなくて　　不安なはずの未来がさ　確かに光っ...    1\n",
       "7   緑黄色社会       inori  真っ逆さまに思えてしまう　アスファルトの夜空に　あなたを探した　　見たり　見えたり　見て見ぬ...    1\n",
       "20  緑黄色社会    sabotage  せーので駆け出したはずなのにどうして　まるで私だけがサボタージュ　YESかNOの間でなんとな...    1\n",
       "24  緑黄色社会  Shout Baby  いつもと違う髪のにおい　踊らされてしまう悔しいな　緩んでしまう口元　マフラーにそっと沈めた　...    1\n",
       "33  緑黄色社会       夏を生きる  勢いまかせのサイダー　ベタついたまま　透明なフリをしていた　“本当”は全部隠れているから　泥...    1\n",
       "38  緑黄色社会    陽はまた昇るから  陽はまた昇るから　　悲しくなれる　それはイイことなんだよ　悲しむ人の気持ちを　守れる人になる...    1\n",
       "39  緑黄色社会      Bitter  揺らしてみて　溶かしてみて　これ以上の驚きで　試してみて　騙してみて　　声聞かせて　笑ってみ...    1\n",
       "43  緑黄色社会         またね  私　あなたの前ではずっと笑って　それ以外の顔出せなかった　寝息が途切れないように　そっとドア...    1\n",
       "44  緑黄色社会     真夜中ドライブ  真夜中　ちょうどお腹が空く頃　エンジンの音で飛び出した　理想と現実は違うものだって　流れるラ...    1\n",
       "45  緑黄色社会       Mela!  今なんじゃない？　メラメラとたぎれ　眠っているだけの正義　こんな僕も君のヒーローになりたいの...    1\n",
       "48  緑黄色社会   Landscape  あれこれ探してきた　切り取って残してきた　溝に咲いた花　君はファインダーから　僕はとなりから...    1\n",
       "52  緑黄色社会     リトルシンガー  ねぇリトルシンガー　歌ってほしいよ　不安も迷いも吹き飛ばす声で　ねぇリトルシンガー　歌ってほ...    1"
      ]
     },
     "execution_count": 164,
     "metadata": {},
     "output_type": "execute_result"
    }
   ],
   "source": [
    "df5[df5[\"flg\"]==1]"
   ]
  },
  {
   "cell_type": "code",
   "execution_count": null,
   "metadata": {},
   "outputs": [],
   "source": []
  },
  {
   "cell_type": "markdown",
   "metadata": {},
   "source": [
    "ELLEGARDEN"
   ]
  },
  {
   "cell_type": "code",
   "execution_count": 117,
   "metadata": {},
   "outputs": [],
   "source": [
    "#スクレイピングしたデータを入れるフレームを作成\n",
    "df6 = pd.DataFrame(columns=[\"artist\",\"song\", \"lyrics\"])"
   ]
  },
  {
   "cell_type": "code",
   "execution_count": 118,
   "metadata": {},
   "outputs": [],
   "source": [
    "url = \"https://www.uta-net.com/artist/281/\""
   ]
  },
  {
   "cell_type": "code",
   "execution_count": 119,
   "metadata": {},
   "outputs": [],
   "source": [
    "df6 = scraping(url, df6)"
   ]
  },
  {
   "cell_type": "code",
   "execution_count": 120,
   "metadata": {},
   "outputs": [],
   "source": [
    "df6[\"artist\"] = \"ELLEGADEN\""
   ]
  },
  {
   "cell_type": "code",
   "execution_count": 121,
   "metadata": {},
   "outputs": [
    {
     "data": {
      "text/html": [
       "<div>\n",
       "<style scoped>\n",
       "    .dataframe tbody tr th:only-of-type {\n",
       "        vertical-align: middle;\n",
       "    }\n",
       "\n",
       "    .dataframe tbody tr th {\n",
       "        vertical-align: top;\n",
       "    }\n",
       "\n",
       "    .dataframe thead th {\n",
       "        text-align: right;\n",
       "    }\n",
       "</style>\n",
       "<table border=\"1\" class=\"dataframe\">\n",
       "  <thead>\n",
       "    <tr style=\"text-align: right;\">\n",
       "      <th></th>\n",
       "      <th>artist</th>\n",
       "      <th>song</th>\n",
       "      <th>lyrics</th>\n",
       "    </tr>\n",
       "  </thead>\n",
       "  <tbody>\n",
       "    <tr>\n",
       "      <th>0</th>\n",
       "      <td>ELLEGADEN</td>\n",
       "      <td>Strawberry Margarita</td>\n",
       "      <td>There's nothing like new stuff to spice up my ...</td>\n",
       "    </tr>\n",
       "    <tr>\n",
       "      <th>1</th>\n",
       "      <td>ELLEGADEN</td>\n",
       "      <td>I Hate It</td>\n",
       "      <td>I woke up and I found that I was sleeping on t...</td>\n",
       "    </tr>\n",
       "    <tr>\n",
       "      <th>2</th>\n",
       "      <td>ELLEGADEN</td>\n",
       "      <td>Acropolis</td>\n",
       "      <td>Is it something I can see　Is it something I ca...</td>\n",
       "    </tr>\n",
       "    <tr>\n",
       "      <th>3</th>\n",
       "      <td>ELLEGADEN</td>\n",
       "      <td>A Thousand Smiles</td>\n",
       "      <td>Shall I tell you a story　A story of a poor lit...</td>\n",
       "    </tr>\n",
       "    <tr>\n",
       "      <th>4</th>\n",
       "      <td>ELLEGADEN</td>\n",
       "      <td>A Song For James</td>\n",
       "      <td>The hidden law　That's what I am looking for　Co...</td>\n",
       "    </tr>\n",
       "  </tbody>\n",
       "</table>\n",
       "</div>"
      ],
      "text/plain": [
       "      artist                  song  \\\n",
       "0  ELLEGADEN  Strawberry Margarita   \n",
       "1  ELLEGADEN             I Hate It   \n",
       "2  ELLEGADEN             Acropolis   \n",
       "3  ELLEGADEN     A Thousand Smiles   \n",
       "4  ELLEGADEN      A Song For James   \n",
       "\n",
       "                                              lyrics  \n",
       "0  There's nothing like new stuff to spice up my ...  \n",
       "1  I woke up and I found that I was sleeping on t...  \n",
       "2  Is it something I can see　Is it something I ca...  \n",
       "3  Shall I tell you a story　A story of a poor lit...  \n",
       "4  The hidden law　That's what I am looking for　Co...  "
      ]
     },
     "execution_count": 121,
     "metadata": {},
     "output_type": "execute_result"
    }
   ],
   "source": [
    "df6.head()"
   ]
  },
  {
   "cell_type": "code",
   "execution_count": 132,
   "metadata": {},
   "outputs": [],
   "source": [
    "#好きな曲flg\n",
    "flg = [0,0,0,0,0,0,0,0,0,0,0,1,1,0,0,0,0,0,0,0,1,0,1,0,1,0,0,1,1,0,0,0,0,0,1,0,0,0,0,0,0,0,0,0,0,0,0,0,1,1,1,0,0,0,0,0,0,0,0,0,0,1,0,0,1,0,1,0,0,0,0,1,0,0,0]"
   ]
  },
  {
   "cell_type": "code",
   "execution_count": 133,
   "metadata": {},
   "outputs": [],
   "source": [
    "df6[\"flg\"] = flg"
   ]
  },
  {
   "cell_type": "code",
   "execution_count": 134,
   "metadata": {},
   "outputs": [
    {
     "data": {
      "text/html": [
       "<div>\n",
       "<style scoped>\n",
       "    .dataframe tbody tr th:only-of-type {\n",
       "        vertical-align: middle;\n",
       "    }\n",
       "\n",
       "    .dataframe tbody tr th {\n",
       "        vertical-align: top;\n",
       "    }\n",
       "\n",
       "    .dataframe thead th {\n",
       "        text-align: right;\n",
       "    }\n",
       "</style>\n",
       "<table border=\"1\" class=\"dataframe\">\n",
       "  <thead>\n",
       "    <tr style=\"text-align: right;\">\n",
       "      <th></th>\n",
       "      <th>artist</th>\n",
       "      <th>song</th>\n",
       "      <th>lyrics</th>\n",
       "      <th>flg</th>\n",
       "    </tr>\n",
       "  </thead>\n",
       "  <tbody>\n",
       "    <tr>\n",
       "      <th>11</th>\n",
       "      <td>ELLEGADEN</td>\n",
       "      <td>Alternative Plans</td>\n",
       "      <td>Stayin' up for days on end　Then sleeping long ...</td>\n",
       "      <td>1</td>\n",
       "    </tr>\n",
       "    <tr>\n",
       "      <th>12</th>\n",
       "      <td>ELLEGADEN</td>\n",
       "      <td>風の日</td>\n",
       "      <td>こんな顔を見せるのは ほんとは好きじゃないけど　僕だって いつも ピエロみたいに 笑えるわけ...</td>\n",
       "      <td>1</td>\n",
       "    </tr>\n",
       "    <tr>\n",
       "      <th>20</th>\n",
       "      <td>ELLEGADEN</td>\n",
       "      <td>高架線</td>\n",
       "      <td>ほんの少し前に　手に入れたような未来を　思い出と一緒に　丸めて投げ捨てた　まだ先は長いよ　荷...</td>\n",
       "      <td>1</td>\n",
       "    </tr>\n",
       "    <tr>\n",
       "      <th>22</th>\n",
       "      <td>ELLEGADEN</td>\n",
       "      <td>サンタクロース</td>\n",
       "      <td>起こしちゃったかな　じゃあちょうどいいや　朝まで付き合ってよ　窓の氷が溶け出すころにはきっと...</td>\n",
       "      <td>1</td>\n",
       "    </tr>\n",
       "    <tr>\n",
       "      <th>24</th>\n",
       "      <td>ELLEGADEN</td>\n",
       "      <td>The Autumn Song</td>\n",
       "      <td>Summer time is gone I miss it so much　My board...</td>\n",
       "      <td>1</td>\n",
       "    </tr>\n",
       "    <tr>\n",
       "      <th>27</th>\n",
       "      <td>ELLEGADEN</td>\n",
       "      <td>ジターバグ</td>\n",
       "      <td>たった一つのことが今を迷わせてるんだ　数え切れないほど無くしてまた拾い集めりゃいいさ　　遠回...</td>\n",
       "      <td>1</td>\n",
       "    </tr>\n",
       "    <tr>\n",
       "      <th>28</th>\n",
       "      <td>ELLEGADEN</td>\n",
       "      <td>スターフィッシュ</td>\n",
       "      <td>おとぎ話の続きを見たくて　すぐ側のものは見えなかった　平気になった媚びた笑いも　まとめて全部...</td>\n",
       "      <td>1</td>\n",
       "    </tr>\n",
       "    <tr>\n",
       "      <th>34</th>\n",
       "      <td>ELLEGADEN</td>\n",
       "      <td>Supernova</td>\n",
       "      <td>My war is over　No resurrection　I guess I was s...</td>\n",
       "      <td>1</td>\n",
       "    </tr>\n",
       "    <tr>\n",
       "      <th>48</th>\n",
       "      <td>ELLEGADEN</td>\n",
       "      <td>Perfect Days</td>\n",
       "      <td>“How come no one stays the same It feels like ...</td>\n",
       "      <td>1</td>\n",
       "    </tr>\n",
       "    <tr>\n",
       "      <th>49</th>\n",
       "      <td>ELLEGADEN</td>\n",
       "      <td>Pizza Man</td>\n",
       "      <td>Tell me someone knows the guy whose name is Da...</td>\n",
       "      <td>1</td>\n",
       "    </tr>\n",
       "    <tr>\n",
       "      <th>50</th>\n",
       "      <td>ELLEGADEN</td>\n",
       "      <td>Funny Bunny</td>\n",
       "      <td>王様の声に逆らって　ばれちゃった夜キミは笑っていた　オーロラにさわれる丘の上　両手をのばして...</td>\n",
       "      <td>1</td>\n",
       "    </tr>\n",
       "    <tr>\n",
       "      <th>61</th>\n",
       "      <td>ELLEGADEN</td>\n",
       "      <td>Marry Me</td>\n",
       "      <td>Somewhere closer I can hear the wedding bell　I...</td>\n",
       "      <td>1</td>\n",
       "    </tr>\n",
       "    <tr>\n",
       "      <th>64</th>\n",
       "      <td>ELLEGADEN</td>\n",
       "      <td>Missing</td>\n",
       "      <td>朱く染まる空　夜の合図が　今日も僕らを駆り立ててく　壁にもたれた　僕らの唄　口ずさめば　　重...</td>\n",
       "      <td>1</td>\n",
       "    </tr>\n",
       "    <tr>\n",
       "      <th>66</th>\n",
       "      <td>ELLEGADEN</td>\n",
       "      <td>Make A Wish</td>\n",
       "      <td>Sunday is over　We are all going home　No reason...</td>\n",
       "      <td>1</td>\n",
       "    </tr>\n",
       "    <tr>\n",
       "      <th>71</th>\n",
       "      <td>ELLEGADEN</td>\n",
       "      <td>Red Hot</td>\n",
       "      <td>Wake me up before you leave　I've got an interv...</td>\n",
       "      <td>1</td>\n",
       "    </tr>\n",
       "  </tbody>\n",
       "</table>\n",
       "</div>"
      ],
      "text/plain": [
       "       artist               song  \\\n",
       "11  ELLEGADEN  Alternative Plans   \n",
       "12  ELLEGADEN                風の日   \n",
       "20  ELLEGADEN                高架線   \n",
       "22  ELLEGADEN            サンタクロース   \n",
       "24  ELLEGADEN    The Autumn Song   \n",
       "27  ELLEGADEN              ジターバグ   \n",
       "28  ELLEGADEN           スターフィッシュ   \n",
       "34  ELLEGADEN          Supernova   \n",
       "48  ELLEGADEN       Perfect Days   \n",
       "49  ELLEGADEN          Pizza Man   \n",
       "50  ELLEGADEN        Funny Bunny   \n",
       "61  ELLEGADEN           Marry Me   \n",
       "64  ELLEGADEN            Missing   \n",
       "66  ELLEGADEN        Make A Wish   \n",
       "71  ELLEGADEN            Red Hot   \n",
       "\n",
       "                                               lyrics  flg  \n",
       "11  Stayin' up for days on end　Then sleeping long ...    1  \n",
       "12  こんな顔を見せるのは ほんとは好きじゃないけど　僕だって いつも ピエロみたいに 笑えるわけ...    1  \n",
       "20  ほんの少し前に　手に入れたような未来を　思い出と一緒に　丸めて投げ捨てた　まだ先は長いよ　荷...    1  \n",
       "22  起こしちゃったかな　じゃあちょうどいいや　朝まで付き合ってよ　窓の氷が溶け出すころにはきっと...    1  \n",
       "24  Summer time is gone I miss it so much　My board...    1  \n",
       "27  たった一つのことが今を迷わせてるんだ　数え切れないほど無くしてまた拾い集めりゃいいさ　　遠回...    1  \n",
       "28  おとぎ話の続きを見たくて　すぐ側のものは見えなかった　平気になった媚びた笑いも　まとめて全部...    1  \n",
       "34  My war is over　No resurrection　I guess I was s...    1  \n",
       "48  “How come no one stays the same It feels like ...    1  \n",
       "49  Tell me someone knows the guy whose name is Da...    1  \n",
       "50  王様の声に逆らって　ばれちゃった夜キミは笑っていた　オーロラにさわれる丘の上　両手をのばして...    1  \n",
       "61  Somewhere closer I can hear the wedding bell　I...    1  \n",
       "64  朱く染まる空　夜の合図が　今日も僕らを駆り立ててく　壁にもたれた　僕らの唄　口ずさめば　　重...    1  \n",
       "66  Sunday is over　We are all going home　No reason...    1  \n",
       "71  Wake me up before you leave　I've got an interv...    1  "
      ]
     },
     "execution_count": 134,
     "metadata": {},
     "output_type": "execute_result"
    }
   ],
   "source": [
    "df6[df6[\"flg\"]==1]"
   ]
  },
  {
   "cell_type": "markdown",
   "metadata": {},
   "source": [
    "dataをconcat"
   ]
  },
  {
   "cell_type": "code",
   "execution_count": 166,
   "metadata": {},
   "outputs": [],
   "source": [
    "#concatで結合\n",
    "data = pd.concat([df, df2])"
   ]
  },
  {
   "cell_type": "code",
   "execution_count": null,
   "metadata": {},
   "outputs": [],
   "source": [
    "data = pd.concat([data,df3])\n"
   ]
  }
 ],
 "metadata": {
  "kernelspec": {
   "display_name": "Python 3",
   "language": "python",
   "name": "python3"
  },
  "language_info": {
   "codemirror_mode": {
    "name": "ipython",
    "version": 3
   },
   "file_extension": ".py",
   "mimetype": "text/x-python",
   "name": "python",
   "nbconvert_exporter": "python",
   "pygments_lexer": "ipython3",
   "version": "3.8.3"
  }
 },
 "nbformat": 4,
 "nbformat_minor": 4
}
